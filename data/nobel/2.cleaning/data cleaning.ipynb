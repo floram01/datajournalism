{
 "cells": [
  {
   "cell_type": "code",
   "execution_count": 1,
   "metadata": {
    "collapsed": false
   },
   "outputs": [],
   "source": [
    "import pandas as pd\n",
    "from pymongo import MongoClient\n",
    "import numpy as np"
   ]
  },
  {
   "cell_type": "code",
   "execution_count": 2,
   "metadata": {
    "collapsed": true
   },
   "outputs": [],
   "source": [
    "def get_mongo_database(db_name, host='localhost',\n",
    "                       port=27017, username=None, password=None):\n",
    "    \"\"\" Get named database from MongoDB with/out authentication \"\"\"\n",
    "    # make Mongo connection with/out authentication\n",
    "    if username and password:\n",
    "        mongo_uri = 'mongodb://%s:%s@%s/%s'%(username, password, host, db_name)\n",
    "        conn = MongoClient(mongo_uri)\n",
    "    else:\n",
    "        conn = MongoClient(host, port)\n",
    "\n",
    "    return conn[db_name]\n",
    "\n",
    "def mongo_coll_to_dicts(dbname='test', collname='test',\n",
    "                        query={}, del_id=True, **kw): \n",
    "\n",
    "    db = get_mongo_database(dbname, **kw)\n",
    "    res = list(db[collname].find(query))\n",
    "\n",
    "    if del_id:\n",
    "        for r in res:\n",
    "            r.pop('_id')\n",
    "\n",
    "    return res\n",
    "\n",
    "def mongo_to_dataframe(db_name, collection, query={},\n",
    "                       host='localhost', port=27017,\n",
    "                       username=None, password=None, no_id=True):\n",
    "    \"\"\" create a dataframe from mongodb collection \"\"\"\n",
    "    db = get_mongo_database(db_name, host, port, username, password)\n",
    "    cursor = db[collection].find(query)\n",
    "    df =  pd.DataFrame(list(cursor))\n",
    "\n",
    "    if no_id: \n",
    "        del df['_id']\n",
    "\n",
    "    return df\n",
    "\n",
    "def dataframe_to_mongo(df, db_name, collection,\n",
    "                       host='localhost', port=27017,\n",
    "                       username=None, password=None):\n",
    "    \"\"\" save a dataframe to mongodb collection \"\"\"\n",
    "    db = get_mongo_database(db_name, host, port, username, password)\n",
    "    records = df.to_dict('records')\n",
    "    db[collection].insert_many(records)"
   ]
  },
  {
   "cell_type": "code",
   "execution_count": 3,
   "metadata": {
    "collapsed": true
   },
   "outputs": [],
   "source": [
    "DB_NOBEL_PRIZE='nobel_prize'\n",
    "COLL_winners='winners'\n",
    "COLL_winners_clean='winners_clean'"
   ]
  },
  {
   "cell_type": "code",
   "execution_count": 4,
   "metadata": {
    "collapsed": true
   },
   "outputs": [],
   "source": [
    "df=mongo_to_dataframe(DB_NOBEL_PRIZE,COLL_winners)"
   ]
  },
  {
   "cell_type": "code",
   "execution_count": 5,
   "metadata": {
    "collapsed": false
   },
   "outputs": [],
   "source": [
    "#1 : fixing mixed datatypes\n",
    "#Replace empty strings with NaN where it makes sense to count them as missing data\n",
    "df.replace('', np.nan, inplace=True)\n",
    "df.name=df.name.str.replace('\\*','')\n",
    "df.name=df.name.str.strip()\n",
    "\n",
    "#2 : specific cleaning\n",
    "#remove duplicates identified as winners with born_in dates\n",
    "df=df[df.born_in.isnull()]\n",
    "del df['born_in']\n",
    "\n",
    "#identify institututions as winners with no genre nor date of birth\n",
    "df.loc[(df.gender.isnull())&(df.date_of_birth.isnull()),'receiver_nature']='institution'\n",
    "\n",
    "#cleaning due to scrapping/storing failure\n",
    "df=df[~((df.gender.isnull())&(df['receiver_nature']!='institution'))]\n",
    "df.drop_duplicates(inplace=True)\n",
    "\n",
    "#delete duplicates identified as winners with same name and year of attribution\n",
    "df=df[~(df.duplicated('name')&df.duplicated('year'))]"
   ]
  },
  {
   "cell_type": "code",
   "execution_count": 6,
   "metadata": {
    "collapsed": false
   },
   "outputs": [],
   "source": [
    "#missing categories\n",
    "df.loc[df.name==\"Alexis Carrel\",'category']=u'Physiology or Medicine'\n",
    "df.loc[df.category.isnull(),'category']=u'Physiology or Medicine'\n",
    "df.loc[df.name==\"Amartya Sen\",'category']=u'Economics'\n",
    "#missing place_of_birth\n",
    "df.loc[df.name==\"Val Fitch\",\"place_of_birth\"]=\"Merriman\"\n",
    "df.loc[df.name==\"John Robert Vane\",\"place_of_birth\"]=\"Tardebigge\"\n",
    "df.loc[df.name==\"Carlos Filipe Ximenes Belo\",\"place_of_birth\"]=\"Baucau\"\n",
    "df.loc[df.name==\"James A. Mirrlees\",\"place_of_birth\"]=\"Minnigaff\"\n",
    "#missing place of death\n",
    "df.loc[df.name==\"Charles J. Pedersen\",\"place_of_death\"]=\"Salem\"\n",
    "df.loc[df.name==\"Archer John Porter Martin\",\"place_of_death\"]=\"Llangaren\""
   ]
  },
  {
   "cell_type": "code",
   "execution_count": 7,
   "metadata": {
    "collapsed": false
   },
   "outputs": [],
   "source": [
    "#isolate df containing dates\n",
    "with_death_date=df[df.date_of_death.notnull()]\n",
    "#obtain a filter identifying errors (=NaT)\n",
    "bad_dates=pd.isnull(pd.to_datetime(with_death_date.date_of_death,errors='coerce'))\n",
    "with_bad_date=with_death_date[bad_dates]\n",
    "\n",
    "#no errors both for birth and death so let's convert to datetime\n",
    "df.date_of_death=pd.to_datetime(df.date_of_death)\n",
    "df.date_of_birth=pd.to_datetime(df.date_of_birth)\n",
    "\n",
    "#additional cleaning based on award age analysis\n",
    "df.loc[df.name==u'Ragnar Granit','year']=1967\n",
    "df.loc[df.name==u'Artturi Ilmari Virtanen','year']=1945\n",
    "df.loc[df.name==u'Frans Eemil Sillanpää','year']=1939\n",
    "\n",
    "#add an award_age column using pd.DatetimeIndex\n",
    "df['award_age']=df.year -  pd.DatetimeIndex(df.date_of_birth).year\n",
    "\n",
    "#replace NaT by 0 to export via pymongo\n",
    "df.loc[df.date_of_birth.isnull(),'date_of_birth']=0\n",
    "df.loc[df.date_of_death.isnull(),'date_of_death']=0\n",
    "\n",
    "#export to mongo\n",
    "dataframe_to_mongo(df,DB_NOBEL_PRIZE,COLL_winners_clean)"
   ]
  },
  {
   "cell_type": "code",
   "execution_count": 8,
   "metadata": {
    "collapsed": false
   },
   "outputs": [
    {
     "data": {
      "text/html": [
       "<div>\n",
       "<table border=\"1\" class=\"dataframe\">\n",
       "  <thead>\n",
       "    <tr style=\"text-align: right;\">\n",
       "      <th></th>\n",
       "      <th>category</th>\n",
       "      <th>country</th>\n",
       "      <th>date_of_birth</th>\n",
       "      <th>date_of_death</th>\n",
       "      <th>gender</th>\n",
       "      <th>link</th>\n",
       "      <th>name</th>\n",
       "      <th>place_of_birth</th>\n",
       "      <th>place_of_death</th>\n",
       "      <th>text</th>\n",
       "      <th>year</th>\n",
       "      <th>receiver_nature</th>\n",
       "      <th>award_age</th>\n",
       "    </tr>\n",
       "  </thead>\n",
       "  <tbody>\n",
       "    <tr>\n",
       "      <th>1</th>\n",
       "      <td>Peace</td>\n",
       "      <td>Belgium</td>\n",
       "      <td>1970-01-01</td>\n",
       "      <td>1970-01-01</td>\n",
       "      <td>NaN</td>\n",
       "      <td>https://en.wikipedia.org/wiki/Institut_de_Droi...</td>\n",
       "      <td>Institut de Droit International</td>\n",
       "      <td>NaN</td>\n",
       "      <td>NaN</td>\n",
       "      <td>Institut de Droit International , Peace, 1904</td>\n",
       "      <td>1904</td>\n",
       "      <td>institution</td>\n",
       "      <td>NaN</td>\n",
       "    </tr>\n",
       "    <tr>\n",
       "      <th>17</th>\n",
       "      <td>Peace</td>\n",
       "      <td>Belgium</td>\n",
       "      <td>1829-07-26 00:00:00</td>\n",
       "      <td>1912-10-06</td>\n",
       "      <td>male</td>\n",
       "      <td>https://en.wikipedia.org/wiki/Auguste_Marie_Fr...</td>\n",
       "      <td>Auguste Beernaert</td>\n",
       "      <td>Ostend</td>\n",
       "      <td>Lucerne</td>\n",
       "      <td>Auguste Beernaert , Peace, 1909</td>\n",
       "      <td>1909</td>\n",
       "      <td>NaN</td>\n",
       "      <td>80.0</td>\n",
       "    </tr>\n",
       "    <tr>\n",
       "      <th>20</th>\n",
       "      <td>Peace</td>\n",
       "      <td>Argentina</td>\n",
       "      <td>1931-11-26</td>\n",
       "      <td>1970-01-01</td>\n",
       "      <td>male</td>\n",
       "      <td>https://en.wikipedia.org/wiki/Adolfo_P%C3%A9re...</td>\n",
       "      <td>Adolfo Pérez Esquivel</td>\n",
       "      <td>Buenos Aires</td>\n",
       "      <td>NaN</td>\n",
       "      <td>Adolfo Pérez Esquivel , Peace, 1980</td>\n",
       "      <td>1980</td>\n",
       "      <td>NaN</td>\n",
       "      <td>49.0</td>\n",
       "    </tr>\n",
       "    <tr>\n",
       "      <th>22</th>\n",
       "      <td>Chemistry</td>\n",
       "      <td>Argentina</td>\n",
       "      <td>1906-09-06</td>\n",
       "      <td>1987-12-02</td>\n",
       "      <td>male</td>\n",
       "      <td>https://en.wikipedia.org/wiki/Luis_Federico_Le...</td>\n",
       "      <td>Luis Federico Leloir</td>\n",
       "      <td>Paris</td>\n",
       "      <td>Catamarca Province</td>\n",
       "      <td>Luis Federico Leloir , Chemistry, 1970</td>\n",
       "      <td>1970</td>\n",
       "      <td>NaN</td>\n",
       "      <td>64.0</td>\n",
       "    </tr>\n",
       "    <tr>\n",
       "      <th>24</th>\n",
       "      <td>Physiology or Medicine</td>\n",
       "      <td>Argentina</td>\n",
       "      <td>1887-04-10 00:00:00</td>\n",
       "      <td>1971-09-21</td>\n",
       "      <td>male</td>\n",
       "      <td>https://en.wikipedia.org/wiki/Bernardo_Houssay</td>\n",
       "      <td>Bernardo Houssay</td>\n",
       "      <td>Buenos Aires</td>\n",
       "      <td>Buenos Aires</td>\n",
       "      <td>Bernardo Houssay , Physiology or Medicine, 1947</td>\n",
       "      <td>1947</td>\n",
       "      <td>NaN</td>\n",
       "      <td>60.0</td>\n",
       "    </tr>\n",
       "  </tbody>\n",
       "</table>\n",
       "</div>"
      ],
      "text/plain": [
       "                  category    country       date_of_birth date_of_death  \\\n",
       "1                    Peace    Belgium          1970-01-01    1970-01-01   \n",
       "17                   Peace    Belgium 1829-07-26 00:00:00    1912-10-06   \n",
       "20                   Peace  Argentina          1931-11-26    1970-01-01   \n",
       "22               Chemistry  Argentina          1906-09-06    1987-12-02   \n",
       "24  Physiology or Medicine  Argentina 1887-04-10 00:00:00    1971-09-21   \n",
       "\n",
       "   gender                                               link  \\\n",
       "1     NaN  https://en.wikipedia.org/wiki/Institut_de_Droi...   \n",
       "17   male  https://en.wikipedia.org/wiki/Auguste_Marie_Fr...   \n",
       "20   male  https://en.wikipedia.org/wiki/Adolfo_P%C3%A9re...   \n",
       "22   male  https://en.wikipedia.org/wiki/Luis_Federico_Le...   \n",
       "24   male     https://en.wikipedia.org/wiki/Bernardo_Houssay   \n",
       "\n",
       "                               name place_of_birth      place_of_death  \\\n",
       "1   Institut de Droit International            NaN                 NaN   \n",
       "17                Auguste Beernaert         Ostend             Lucerne   \n",
       "20            Adolfo Pérez Esquivel   Buenos Aires                 NaN   \n",
       "22             Luis Federico Leloir          Paris  Catamarca Province   \n",
       "24                 Bernardo Houssay   Buenos Aires        Buenos Aires   \n",
       "\n",
       "                                               text  year receiver_nature  \\\n",
       "1     Institut de Droit International , Peace, 1904  1904     institution   \n",
       "17                  Auguste Beernaert , Peace, 1909  1909             NaN   \n",
       "20              Adolfo Pérez Esquivel , Peace, 1980  1980             NaN   \n",
       "22           Luis Federico Leloir , Chemistry, 1970  1970             NaN   \n",
       "24  Bernardo Houssay , Physiology or Medicine, 1947  1947             NaN   \n",
       "\n",
       "    award_age  \n",
       "1         NaN  \n",
       "17       80.0  \n",
       "20       49.0  \n",
       "22       64.0  \n",
       "24       60.0  "
      ]
     },
     "execution_count": 8,
     "metadata": {},
     "output_type": "execute_result"
    }
   ],
   "source": [
    "df.head()"
   ]
  },
  {
   "cell_type": "code",
   "execution_count": 88,
   "metadata": {
    "collapsed": false
   },
   "outputs": [
    {
     "data": {
      "text/plain": [
       "<pymongo.results.InsertManyResult at 0x112329dc0>"
      ]
     },
     "execution_count": 88,
     "metadata": {},
     "output_type": "execute_result"
    }
   ],
   "source": [
    "mini_bio=pd.read_json(\"../scrapping/nobel/nobel_winners/winners_mini_bio.json\")\n",
    "db['mini_bio'].insert_many(mini_bio.to_dict(orient='records'))"
   ]
  },
  {
   "cell_type": "code",
   "execution_count": 89,
   "metadata": {
    "collapsed": false
   },
   "outputs": [
    {
     "data": {
      "text/plain": [
       "<pymongo.results.InsertManyResult at 0x1127888c0>"
      ]
     },
     "execution_count": 89,
     "metadata": {},
     "output_type": "execute_result"
    }
   ],
   "source": [
    "#convert mongo source to df\n",
    "mini_bio=mongo_to_dataframe(DB_NOBEL_PRIZE,'mini_bio')\n",
    "#only consider links which appear in the main dataset\n",
    "mini_bio_clean=mini_bio[mini_bio.link.isin(df.link.unique())]\n",
    "#drop duplicates\n",
    "mini_bio_clean=mini_bio_clean[~mini_bio_clean.duplicated('link')]\n",
    "#merge with main\n",
    "full_data=pd.merge(df, mini_bio_clean, how='outer', on='link')\n",
    "#replace NaN that trigger errors in json\n",
    "df.award_age[df.award_age.isnull()]=0\n",
    "df.gender[df.gender.isnull()]='institution'\n",
    "df.place_of_birth[df.place_of_birth.isnull()]='institution'\n",
    "df.place_of_death[df.place_of_death.isnull()]='not applicable'\n",
    "df.receiver_nature[df.receiver_nature.isnull()]='people'\n",
    "#insert full in mongo\n",
    "db['full_data'].insert_many(full_data.to_dict(orient='records'))"
   ]
  }
 ],
 "metadata": {
  "kernelspec": {
   "display_name": "Python 2",
   "language": "python",
   "name": "python2"
  },
  "language_info": {
   "codemirror_mode": {
    "name": "ipython",
    "version": 2
   },
   "file_extension": ".py",
   "mimetype": "text/x-python",
   "name": "python",
   "nbconvert_exporter": "python",
   "pygments_lexer": "ipython2",
   "version": "2.7.11"
  }
 },
 "nbformat": 4,
 "nbformat_minor": 0
}
