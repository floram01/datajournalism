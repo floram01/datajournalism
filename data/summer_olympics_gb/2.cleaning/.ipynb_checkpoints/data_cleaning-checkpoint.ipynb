{
 "cells": [
  {
   "cell_type": "code",
   "execution_count": 1,
   "metadata": {
    "collapsed": false
   },
   "outputs": [
    {
     "data": {
      "text/plain": [
       "[u'wb_demo_eco',\n",
       " u'full_data',\n",
       " u'results_gb_2016',\n",
       " u'grant_information',\n",
       " u'winners_1896_2008',\n",
       " u'winners_2012',\n",
       " u'results_france_2016']"
      ]
     },
     "execution_count": 1,
     "metadata": {},
     "output_type": "execute_result"
    }
   ],
   "source": [
    "import pandas as pd\n",
    "from pymongo import MongoClient\n",
    "import numpy as np\n",
    "\n",
    "#import the data_tools needed\n",
    "import sys\n",
    "sys.path.insert(0, \"../../data_tools/ressources/\")\n",
    "from mongo_tools import get_mongo_database,mongo_coll_to_dicts, mongo_to_dataframe, dataframe_to_mongo\n",
    "\n",
    "#import the project specific data params\n",
    "sys.path.insert(0, \"../\")\n",
    "from data_params import DATABASE\n",
    "\n",
    "#make available the db of the project and display the available collections\n",
    "db = get_mongo_database(DATABASE)\n",
    "db.collection_names()"
   ]
  },
  {
   "cell_type": "code",
   "execution_count": 31,
   "metadata": {
    "collapsed": false
   },
   "outputs": [],
   "source": [
    "#choose your collection and tranform it in a pd dataframe\n",
    "df = mongo_to_dataframe(DATABASE,'grant_information')"
   ]
  },
  {
   "cell_type": "code",
   "execution_count": 27,
   "metadata": {
    "collapsed": false
   },
   "outputs": [
    {
     "data": {
      "text/html": [
       "<div>\n",
       "<table border=\"1\" class=\"dataframe\">\n",
       "  <thead>\n",
       "    <tr style=\"text-align: right;\">\n",
       "      <th></th>\n",
       "      <th>Budget</th>\n",
       "      <th>DATE</th>\n",
       "      <th>NGB Name</th>\n",
       "      <th>PAID</th>\n",
       "      <th>SPORT</th>\n",
       "      <th>Year</th>\n",
       "    </tr>\n",
       "  </thead>\n",
       "  <tbody>\n",
       "    <tr>\n",
       "      <th>0</th>\n",
       "      <td>Lottery</td>\n",
       "      <td>2009-09-04</td>\n",
       "      <td>British Curling Association</td>\n",
       "      <td>54,500.00</td>\n",
       "      <td>Curling</td>\n",
       "      <td>2009</td>\n",
       "    </tr>\n",
       "    <tr>\n",
       "      <th>1</th>\n",
       "      <td>Lottery</td>\n",
       "      <td>2009-09-04</td>\n",
       "      <td>British Bob Skeleton Association</td>\n",
       "      <td>39,000.00</td>\n",
       "      <td>Skeleton</td>\n",
       "      <td>2009</td>\n",
       "    </tr>\n",
       "    <tr>\n",
       "      <th>2</th>\n",
       "      <td>Exchequer</td>\n",
       "      <td>2009-09-04</td>\n",
       "      <td>British Curling Association</td>\n",
       "      <td>12,250.00</td>\n",
       "      <td>Wheelchair Curling</td>\n",
       "      <td>2009</td>\n",
       "    </tr>\n",
       "    <tr>\n",
       "      <th>3</th>\n",
       "      <td>Exchequer</td>\n",
       "      <td>2009-09-04</td>\n",
       "      <td>British Performance Basketball Ltd</td>\n",
       "      <td>4,500.00</td>\n",
       "      <td>Basketball</td>\n",
       "      <td>2009</td>\n",
       "    </tr>\n",
       "    <tr>\n",
       "      <th>4</th>\n",
       "      <td>Exchequer</td>\n",
       "      <td>2009-09-04</td>\n",
       "      <td>Disability Snowsport UK</td>\n",
       "      <td>8,000.00</td>\n",
       "      <td>Paralympic Skiing</td>\n",
       "      <td>2009</td>\n",
       "    </tr>\n",
       "  </tbody>\n",
       "</table>\n",
       "</div>"
      ],
      "text/plain": [
       "      Budget       DATE                            NGB Name       PAID  \\\n",
       "0    Lottery 2009-09-04         British Curling Association  54,500.00   \n",
       "1    Lottery 2009-09-04    British Bob Skeleton Association  39,000.00   \n",
       "2  Exchequer 2009-09-04         British Curling Association  12,250.00   \n",
       "3  Exchequer 2009-09-04  British Performance Basketball Ltd   4,500.00   \n",
       "4  Exchequer 2009-09-04             Disability Snowsport UK   8,000.00   \n",
       "\n",
       "                SPORT  Year  \n",
       "0             Curling  2009  \n",
       "1            Skeleton  2009  \n",
       "2  Wheelchair Curling  2009  \n",
       "3          Basketball  2009  \n",
       "4   Paralympic Skiing  2009  "
      ]
     },
     "execution_count": 27,
     "metadata": {},
     "output_type": "execute_result"
    }
   ],
   "source": [
    "df.head()"
   ]
  },
  {
   "cell_type": "code",
   "execution_count": 32,
   "metadata": {
    "collapsed": false
   },
   "outputs": [],
   "source": [
    "df['DATE']=pd.to_datetime(df.DATE,errors='coerce')\n",
    "df['Year'] = df.DATE.map(lambda x : x.year)"
   ]
  },
  {
   "cell_type": "code",
   "execution_count": 35,
   "metadata": {
    "collapsed": false
   },
   "outputs": [],
   "source": [
    "df.dropna(subset=['Year'],inplace=True)"
   ]
  },
  {
   "cell_type": "code",
   "execution_count": 65,
   "metadata": {
    "collapsed": false
   },
   "outputs": [],
   "source": [
    "df.PAID = df.PAID.str.replace(',','')"
   ]
  },
  {
   "cell_type": "code",
   "execution_count": 66,
   "metadata": {
    "collapsed": true
   },
   "outputs": [],
   "source": [
    "df.PAID = df.PAID.astype(np.float32, raise_on_error=False, copy=False)"
   ]
  },
  {
   "cell_type": "code",
   "execution_count": 68,
   "metadata": {
    "collapsed": false
   },
   "outputs": [
    {
     "data": {
      "text/plain": [
       "0.81140071"
      ]
     },
     "execution_count": 68,
     "metadata": {},
     "output_type": "execute_result"
    }
   ],
   "source": [
    "#check availability of sport attachment information ==> 81% du budget est allouable à une discipline facilement\n",
    "#nous nous limitons à ces éléments\n",
    "df.loc[df.SPORT.notnull(), 'PAID'].sum()/df.PAID.sum()"
   ]
  },
  {
   "cell_type": "code",
   "execution_count": 78,
   "metadata": {
    "collapsed": true
   },
   "outputs": [],
   "source": [
    "df_alloc = df.copy()\n",
    "df_alloc = df_alloc[(df_alloc.SPORT.notnull())&(df_alloc.SPORT != 'EIS')]"
   ]
  },
  {
   "cell_type": "code",
   "execution_count": 109,
   "metadata": {
    "collapsed": false
   },
   "outputs": [],
   "source": [
    "HANDICAP = r'Wheelchair|Weelchair|Paralympic|Para|Disability|Impaired|Adaptive|Boccia|Goalball'\n",
    "WINTER = r'Bobsleigh|Ski|Snow|Curling|Skeleton|Skating'"
   ]
  },
  {
   "cell_type": "code",
   "execution_count": 110,
   "metadata": {
    "collapsed": false
   },
   "outputs": [],
   "source": [
    "df_alloc.loc[df_alloc.SPORT.str.contains(HANDICAP),'category'] = 'Paralympic' \n",
    "df_alloc.loc[df_alloc.SPORT.str.contains(WINTER),'category'] = 'Winter'\n",
    "df_alloc.loc[df_alloc.category.isnull(),'category'] = 'Summer' "
   ]
  },
  {
   "cell_type": "code",
   "execution_count": 113,
   "metadata": {
    "collapsed": false
   },
   "outputs": [
    {
     "data": {
      "text/plain": [
       "array([u'Basketball', u'Swimming', u'Equestrian', u'Diving', u'Hockey',\n",
       "       u'Volleyball', u'Rowing', u'Athletics', u'Synchronised Swimming',\n",
       "       u'Badminton', 'Gymnastics', u'Judo', u'Archery', 'Shooting',\n",
       "       u'Handball', u'Boxing', 'Table Tennis', u'Taekwondo', u'Triathlon',\n",
       "       u'Sailing', u'Water Polo', u'Wrestling', u'Cycling',\n",
       "       u'Modern Pentathlon', u'Fencing', u'Canoeing', u'Powerlifting',\n",
       "       u'Weightlifting'], dtype=object)"
      ]
     },
     "execution_count": 113,
     "metadata": {},
     "output_type": "execute_result"
    }
   ],
   "source": [
    "df_summer.SPORT.unique()"
   ]
  },
  {
   "cell_type": "code",
   "execution_count": 111,
   "metadata": {
    "collapsed": false
   },
   "outputs": [],
   "source": [
    "df_summer = df_alloc.copy()\n",
    "df_summer = df_summer[df_summer.category=='Summer']\n",
    "del df_summer['category']"
   ]
  },
  {
   "cell_type": "code",
   "execution_count": 89,
   "metadata": {
    "collapsed": false
   },
   "outputs": [
    {
     "data": {
      "text/plain": [
       "0.69534254"
      ]
     },
     "execution_count": 89,
     "metadata": {},
     "output_type": "execute_result"
    }
   ],
   "source": [
    "#après avoir retraité les jeux d'hiver et paralympiques notre analyse concerne 70% du budget de uksport\n",
    "#http://www.uksport.gov.uk/resources/business-plan, 350m investis tout compris on the road to Rio ==> le remarquer en commentaire\n",
    "df_summer.PAID.sum()/df.PAID.sum()"
   ]
  },
  {
   "cell_type": "code",
   "execution_count": 103,
   "metadata": {
    "collapsed": false
   },
   "outputs": [],
   "source": [
    "RENAME = {\n",
    "    \"Gymnastics - Women's Artistic\":'Gymnastics',\n",
    "    \"Gymnastics - Men's Artistic\":'Gymnastics',\n",
    "    'Target Shooting':'Shooting',\n",
    "    'Table Tennis (GB)':'Table Tennis'\n",
    "}"
   ]
  },
  {
   "cell_type": "code",
   "execution_count": 112,
   "metadata": {
    "collapsed": false
   },
   "outputs": [],
   "source": [
    "df_summer.SPORT = df_summer.SPORT.replace(RENAME)"
   ]
  }
 ],
 "metadata": {
  "kernelspec": {
   "display_name": "Python 2",
   "language": "python",
   "name": "python2"
  },
  "language_info": {
   "codemirror_mode": {
    "name": "ipython",
    "version": 2
   },
   "file_extension": ".py",
   "mimetype": "text/x-python",
   "name": "python",
   "nbconvert_exporter": "python",
   "pygments_lexer": "ipython2",
   "version": "2.7.12"
  }
 },
 "nbformat": 4,
 "nbformat_minor": 0
}
