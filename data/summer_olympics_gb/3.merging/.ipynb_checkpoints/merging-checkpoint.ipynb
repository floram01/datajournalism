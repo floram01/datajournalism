{
 "cells": [
  {
   "cell_type": "code",
   "execution_count": 2,
   "metadata": {
    "collapsed": false
   },
   "outputs": [
    {
     "data": {
      "text/plain": [
       "[u'country_mapper',\n",
       " u'winners_1896_2008',\n",
       " u'wb_demo_eco',\n",
       " u'full_data',\n",
       " u'winners_2012']"
      ]
     },
     "execution_count": 2,
     "metadata": {},
     "output_type": "execute_result"
    }
   ],
   "source": [
    "import pandas as pd\n",
    "from pymongo import MongoClient\n",
    "import numpy as np\n",
    "#import the data_tools needed\n",
    "import sys\n",
    "sys.path.insert(0, \"../../data_tools/ressources/\")\n",
    "from mongo_tools import get_mongo_database,mongo_coll_to_dicts, mongo_to_dataframe, dataframe_to_mongo\n",
    "\n",
    "#import the project specific data params\n",
    "sys.path.insert(0, \"../\")\n",
    "from data_params import DATABASE\n",
    "\n",
    "#make the db of the project available\n",
    "db = get_mongo_database(DATABASE)\n",
    "db.collection_names()"
   ]
  },
  {
   "cell_type": "code",
   "execution_count": 163,
   "metadata": {
    "collapsed": false
   },
   "outputs": [],
   "source": [
    "#import below all the collections you wish to use for your merge procedure and tranform them in a pd dataframe\n",
    "#df_1 = mongo_to_dataframe(DATABASE,'my_collection_1')\n",
    "#df_2 = mongo_to_dataframe(DATABASE,'my_collection_2')\n",
    "#df_3 = mongo_to_dataframe(DATABASE,'my_collection_3')"
   ]
  },
  {
   "cell_type": "code",
   "execution_count": 168,
   "metadata": {
    "collapsed": false
   },
   "outputs": [],
   "source": [
    "#apply various cleaning methods\n",
    "#careful of the date format, adjust dates and convert to datetime\n",
    "df.date = pd.to_datetime(df.date,errors='coerce',format='%Y')"
   ]
  }
 ],
 "metadata": {
  "kernelspec": {
   "display_name": "Python 2",
   "language": "python",
   "name": "python2"
  },
  "language_info": {
   "codemirror_mode": {
    "name": "ipython",
    "version": 2
   },
   "file_extension": ".py",
   "mimetype": "text/x-python",
   "name": "python",
   "nbconvert_exporter": "python",
   "pygments_lexer": "ipython2",
   "version": "2.7.12"
  }
 },
 "nbformat": 4,
 "nbformat_minor": 0
}
