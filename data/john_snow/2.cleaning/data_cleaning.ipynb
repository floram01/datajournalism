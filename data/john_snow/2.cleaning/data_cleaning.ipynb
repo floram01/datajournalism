{
 "cells": [
  {
   "cell_type": "code",
   "execution_count": 2,
   "metadata": {
    "collapsed": false
   },
   "outputs": [
    {
     "data": {
      "text/plain": [
       "[u'country_mapper',\n",
       " u'winners_1896_2008',\n",
       " u'wb_demo_eco',\n",
       " u'full_data',\n",
       " u'winners_2012']"
      ]
     },
     "execution_count": 2,
     "metadata": {},
     "output_type": "execute_result"
    }
   ],
   "source": [
    "import pandas as pd\n",
    "from pymongo import MongoClient\n",
    "import numpy as np\n",
    "\n",
    "#import the data_tools needed\n",
    "import sys\n",
    "sys.path.insert(0, \"../../data_tools/ressources/\")\n",
    "from mongo_tools import get_mongo_database,mongo_coll_to_dicts, mongo_to_dataframe, dataframe_to_mongo\n",
    "\n",
    "#import the project specific data params\n",
    "sys.path.insert(0, \"../\")\n",
    "from data_params import DATABASE\n",
    "\n",
    "#make available the db of the project and display the available collections\n",
    "db = get_mongo_database(DATABASE)\n",
    "db.collection_names()"
   ]
  },
  {
   "cell_type": "code",
   "execution_count": 34,
   "metadata": {
    "collapsed": false
   },
   "outputs": [],
   "source": [
    "#choose your collection and tranform it in a pd dataframe\n",
    "#df = mongo_to_dataframe(DATABASE,'my_collection')"
   ]
  },
  {
   "cell_type": "code",
   "execution_count": 49,
   "metadata": {
    "collapsed": false
   },
   "outputs": [
    {
     "data": {
      "text/html": [
       "<div>\n",
       "<table border=\"1\" class=\"dataframe\">\n",
       "  <thead>\n",
       "    <tr style=\"text-align: right;\">\n",
       "      <th></th>\n",
       "      <th>country</th>\n",
       "      <th>country_code</th>\n",
       "      <th>country_link</th>\n",
       "      <th>date</th>\n",
       "      <th>event</th>\n",
       "      <th>medal</th>\n",
       "      <th>name</th>\n",
       "      <th>sport</th>\n",
       "    </tr>\n",
       "  </thead>\n",
       "  <tbody>\n",
       "    <tr>\n",
       "      <th>0</th>\n",
       "      <td>United States</td>\n",
       "      <td>USA</td>\n",
       "      <td>/wiki/United_States_at_the_2012_Summer_Olympics</td>\n",
       "      <td>2016-07-28</td>\n",
       "      <td>Men's 400 m individual medley</td>\n",
       "      <td>01</td>\n",
       "      <td>Lochte, Ryan</td>\n",
       "      <td>Swimming</td>\n",
       "    </tr>\n",
       "    <tr>\n",
       "      <th>1</th>\n",
       "      <td>United States</td>\n",
       "      <td>USA</td>\n",
       "      <td>/wiki/United_States_at_the_2012_Summer_Olympics</td>\n",
       "      <td>2016-07-29</td>\n",
       "      <td>Women's skeet</td>\n",
       "      <td>01</td>\n",
       "      <td>Rhode, Kim</td>\n",
       "      <td>Shooting</td>\n",
       "    </tr>\n",
       "    <tr>\n",
       "      <th>2</th>\n",
       "      <td>United States</td>\n",
       "      <td>USA</td>\n",
       "      <td>/wiki/United_States_at_the_2012_Summer_Olympics</td>\n",
       "      <td>2016-07-29</td>\n",
       "      <td>Women's 100 m butterfly</td>\n",
       "      <td>01</td>\n",
       "      <td>Vollmer, Dana</td>\n",
       "      <td>Swimming</td>\n",
       "    </tr>\n",
       "    <tr>\n",
       "      <th>3</th>\n",
       "      <td>United States</td>\n",
       "      <td>USA</td>\n",
       "      <td>/wiki/United_States_at_the_2012_Summer_Olympics</td>\n",
       "      <td>2016-07-30</td>\n",
       "      <td>Men's 100 m backstroke</td>\n",
       "      <td>01</td>\n",
       "      <td>Grevers, Matt</td>\n",
       "      <td>Swimming</td>\n",
       "    </tr>\n",
       "    <tr>\n",
       "      <th>4</th>\n",
       "      <td>United States</td>\n",
       "      <td>USA</td>\n",
       "      <td>/wiki/United_States_at_the_2012_Summer_Olympics</td>\n",
       "      <td>2016-07-30</td>\n",
       "      <td>Women's 100 m backstroke</td>\n",
       "      <td>01</td>\n",
       "      <td>Franklin, Missy</td>\n",
       "      <td>Swimming</td>\n",
       "    </tr>\n",
       "  </tbody>\n",
       "</table>\n",
       "</div>"
      ],
      "text/plain": [
       "         country country_code  \\\n",
       "0  United States          USA   \n",
       "1  United States          USA   \n",
       "2  United States          USA   \n",
       "3  United States          USA   \n",
       "4  United States          USA   \n",
       "\n",
       "                                      country_link       date  \\\n",
       "0  /wiki/United_States_at_the_2012_Summer_Olympics 2016-07-28   \n",
       "1  /wiki/United_States_at_the_2012_Summer_Olympics 2016-07-29   \n",
       "2  /wiki/United_States_at_the_2012_Summer_Olympics 2016-07-29   \n",
       "3  /wiki/United_States_at_the_2012_Summer_Olympics 2016-07-30   \n",
       "4  /wiki/United_States_at_the_2012_Summer_Olympics 2016-07-30   \n",
       "\n",
       "                           event medal             name     sport  \n",
       "0  Men's 400 m individual medley    01     Lochte, Ryan  Swimming  \n",
       "1                  Women's skeet    01       Rhode, Kim  Shooting  \n",
       "2        Women's 100 m butterfly    01    Vollmer, Dana  Swimming  \n",
       "3         Men's 100 m backstroke    01    Grevers, Matt  Swimming  \n",
       "4       Women's 100 m backstroke    01  Franklin, Missy  Swimming  "
      ]
     },
     "execution_count": 49,
     "metadata": {},
     "output_type": "execute_result"
    }
   ],
   "source": [
    "df.head()"
   ]
  },
  {
   "cell_type": "code",
   "execution_count": 37,
   "metadata": {
    "collapsed": false
   },
   "outputs": [],
   "source": [
    "#apply various cleaning methods\n",
    "#careful of the date format, adjust dates and convert to datetime\n",
    "df.date = pd.to_datetime(df.date,errors='coerce')"
   ]
  }
 ],
 "metadata": {
  "kernelspec": {
   "display_name": "Python 2",
   "language": "python",
   "name": "python2"
  },
  "language_info": {
   "codemirror_mode": {
    "name": "ipython",
    "version": 2
   },
   "file_extension": ".py",
   "mimetype": "text/x-python",
   "name": "python",
   "nbconvert_exporter": "python",
   "pygments_lexer": "ipython2",
   "version": "2.7.12"
  }
 },
 "nbformat": 4,
 "nbformat_minor": 0
}
