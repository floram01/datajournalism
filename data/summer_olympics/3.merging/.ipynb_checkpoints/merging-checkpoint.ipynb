{
 "cells": [
  {
   "cell_type": "code",
   "execution_count": 2,
   "metadata": {
    "collapsed": false
   },
   "outputs": [
    {
     "data": {
      "text/plain": [
       "[u'winners_1896_2008', u'wb_demo_eco', u'winners_2012']"
      ]
     },
     "execution_count": 2,
     "metadata": {},
     "output_type": "execute_result"
    }
   ],
   "source": [
    "import pandas as pd\n",
    "from pymongo import MongoClient\n",
    "import numpy as np\n",
    "#import the data_tools needed\n",
    "import sys\n",
    "sys.path.insert(0, \"../../data_tools/\")\n",
    "from mongo_tools import get_mongo_database,mongo_coll_to_dicts, mongo_to_dataframe, dataframe_to_mongo\n",
    "\n",
    "#import the project specific data params\n",
    "sys.path.insert(0, \"../\")\n",
    "from data_params import DATABASE\n",
    "db = get_mongo_database(DATABASE)\n",
    "db.collection_names()"
   ]
  },
  {
   "cell_type": "code",
   "execution_count": 11,
   "metadata": {
    "collapsed": false
   },
   "outputs": [],
   "source": [
    "import slugify"
   ]
  },
  {
   "cell_type": "code",
   "execution_count": 61,
   "metadata": {
    "collapsed": false
   },
   "outputs": [],
   "source": [
    "winners_histo = mongo_to_dataframe(DATABASE, 'winners_1896_2008')\n",
    "winners_2012 = mongo_to_dataframe(DATABASE, 'winners_2012')\n",
    "wb = mongo_to_dataframe(DATABASE, 'wb_demo_eco')"
   ]
  },
  {
   "cell_type": "code",
   "execution_count": null,
   "metadata": {
    "collapsed": true
   },
   "outputs": [],
   "source": [
    "#histoires : introduction du hockey sur glace pour la première fois en 1920 aux JO... d'été (les JO d'hivers \n",
    "#n'existent pas encore)\n",
    "\n",
    "#les jeux qui ont disparu en 2012\n",
    "\n",
    "#les jeux qui vont réapparaitre en 2016/être introduits"
   ]
  },
  {
   "cell_type": "code",
   "execution_count": 5,
   "metadata": {
    "collapsed": false
   },
   "outputs": [
    {
     "data": {
      "text/html": [
       "<div>\n",
       "<table border=\"1\" class=\"dataframe\">\n",
       "  <thead>\n",
       "    <tr style=\"text-align: right;\">\n",
       "      <th></th>\n",
       "      <th>Athlete</th>\n",
       "      <th>City</th>\n",
       "      <th>Discipline</th>\n",
       "      <th>Edition</th>\n",
       "      <th>Event</th>\n",
       "      <th>Event_gender</th>\n",
       "      <th>Gender</th>\n",
       "      <th>Medal</th>\n",
       "      <th>NOC</th>\n",
       "      <th>Sport</th>\n",
       "    </tr>\n",
       "  </thead>\n",
       "  <tbody>\n",
       "    <tr>\n",
       "      <th>0</th>\n",
       "      <td>HAJOS, Alfred</td>\n",
       "      <td>Athens</td>\n",
       "      <td>Swimming</td>\n",
       "      <td>1896</td>\n",
       "      <td>100m freestyle</td>\n",
       "      <td>M</td>\n",
       "      <td>Men</td>\n",
       "      <td>Gold</td>\n",
       "      <td>HUN</td>\n",
       "      <td>Aquatics</td>\n",
       "    </tr>\n",
       "    <tr>\n",
       "      <th>1</th>\n",
       "      <td>HERSCHMANN, Otto</td>\n",
       "      <td>Athens</td>\n",
       "      <td>Swimming</td>\n",
       "      <td>1896</td>\n",
       "      <td>100m freestyle</td>\n",
       "      <td>M</td>\n",
       "      <td>Men</td>\n",
       "      <td>Silver</td>\n",
       "      <td>AUT</td>\n",
       "      <td>Aquatics</td>\n",
       "    </tr>\n",
       "    <tr>\n",
       "      <th>2</th>\n",
       "      <td>DRIVAS, Dimitrios</td>\n",
       "      <td>Athens</td>\n",
       "      <td>Swimming</td>\n",
       "      <td>1896</td>\n",
       "      <td>100m freestyle for sailors</td>\n",
       "      <td>M</td>\n",
       "      <td>Men</td>\n",
       "      <td>Bronze</td>\n",
       "      <td>GRE</td>\n",
       "      <td>Aquatics</td>\n",
       "    </tr>\n",
       "  </tbody>\n",
       "</table>\n",
       "</div>"
      ],
      "text/plain": [
       "             Athlete    City Discipline  Edition                       Event  \\\n",
       "0      HAJOS, Alfred  Athens   Swimming     1896              100m freestyle   \n",
       "1   HERSCHMANN, Otto  Athens   Swimming     1896              100m freestyle   \n",
       "2  DRIVAS, Dimitrios  Athens   Swimming     1896  100m freestyle for sailors   \n",
       "\n",
       "  Event_gender Gender   Medal  NOC     Sport  \n",
       "0            M    Men    Gold  HUN  Aquatics  \n",
       "1            M    Men  Silver  AUT  Aquatics  \n",
       "2            M    Men  Bronze  GRE  Aquatics  "
      ]
     },
     "execution_count": 5,
     "metadata": {},
     "output_type": "execute_result"
    }
   ],
   "source": [
    "winners_histo.head(3)"
   ]
  },
  {
   "cell_type": "code",
   "execution_count": 25,
   "metadata": {
    "collapsed": false
   },
   "outputs": [
    {
     "data": {
      "text/html": [
       "<div>\n",
       "<table border=\"1\" class=\"dataframe\">\n",
       "  <thead>\n",
       "    <tr style=\"text-align: right;\">\n",
       "      <th></th>\n",
       "      <th>Country</th>\n",
       "      <th>NOC</th>\n",
       "      <th>Country_link</th>\n",
       "      <th>Date</th>\n",
       "      <th>event</th>\n",
       "      <th>Medal</th>\n",
       "      <th>Athlete</th>\n",
       "      <th>Discipline</th>\n",
       "      <th>city</th>\n",
       "      <th>City</th>\n",
       "      <th>Edition</th>\n",
       "    </tr>\n",
       "  </thead>\n",
       "  <tbody>\n",
       "    <tr>\n",
       "      <th>0</th>\n",
       "      <td>United States</td>\n",
       "      <td>USA</td>\n",
       "      <td>/wiki/United_States_at_the_2012_Summer_Olympics</td>\n",
       "      <td>2016-07-28</td>\n",
       "      <td>Men's 400 m individual medley</td>\n",
       "      <td>Gold</td>\n",
       "      <td>Lochte, Ryan</td>\n",
       "      <td>Swimming</td>\n",
       "      <td>London</td>\n",
       "      <td>London</td>\n",
       "      <td>2012</td>\n",
       "    </tr>\n",
       "    <tr>\n",
       "      <th>1</th>\n",
       "      <td>United States</td>\n",
       "      <td>USA</td>\n",
       "      <td>/wiki/United_States_at_the_2012_Summer_Olympics</td>\n",
       "      <td>2016-07-29</td>\n",
       "      <td>Women's skeet</td>\n",
       "      <td>Gold</td>\n",
       "      <td>Rhode, Kim</td>\n",
       "      <td>Shooting</td>\n",
       "      <td>London</td>\n",
       "      <td>London</td>\n",
       "      <td>2012</td>\n",
       "    </tr>\n",
       "    <tr>\n",
       "      <th>2</th>\n",
       "      <td>United States</td>\n",
       "      <td>USA</td>\n",
       "      <td>/wiki/United_States_at_the_2012_Summer_Olympics</td>\n",
       "      <td>2016-07-29</td>\n",
       "      <td>Women's 100 m butterfly</td>\n",
       "      <td>Gold</td>\n",
       "      <td>Vollmer, Dana</td>\n",
       "      <td>Swimming</td>\n",
       "      <td>London</td>\n",
       "      <td>London</td>\n",
       "      <td>2012</td>\n",
       "    </tr>\n",
       "  </tbody>\n",
       "</table>\n",
       "</div>"
      ],
      "text/plain": [
       "         Country  NOC                                     Country_link  \\\n",
       "0  United States  USA  /wiki/United_States_at_the_2012_Summer_Olympics   \n",
       "1  United States  USA  /wiki/United_States_at_the_2012_Summer_Olympics   \n",
       "2  United States  USA  /wiki/United_States_at_the_2012_Summer_Olympics   \n",
       "\n",
       "        Date                          event Medal        Athlete Discipline  \\\n",
       "0 2016-07-28  Men's 400 m individual medley  Gold   Lochte, Ryan   Swimming   \n",
       "1 2016-07-29                  Women's skeet  Gold     Rhode, Kim   Shooting   \n",
       "2 2016-07-29        Women's 100 m butterfly  Gold  Vollmer, Dana   Swimming   \n",
       "\n",
       "     city    City  Edition  \n",
       "0  London  London     2012  \n",
       "1  London  London     2012  \n",
       "2  London  London     2012  "
      ]
     },
     "execution_count": 25,
     "metadata": {},
     "output_type": "execute_result"
    }
   ],
   "source": [
    "winners_2012.head(3)"
   ]
  },
  {
   "cell_type": "code",
   "execution_count": 62,
   "metadata": {
    "collapsed": false
   },
   "outputs": [],
   "source": [
    "#add city to London 2012 event\n",
    "winners_2012['City'] = 'London'\n",
    "winners_2012['Edition'] = 2012\n",
    "#\n",
    "RENAME_2012_COL = {\n",
    "    'country_code':'NOC',\n",
    "    'name':'Athlete',\n",
    "    'medal':'Medal',\n",
    "    'country':'Country',\n",
    "    'country_link':'Country_link',\n",
    "    'date':'Date',\n",
    "    'sport':'Discipline'\n",
    "}\n",
    "winners_2012.rename(columns=RENAME_2012_COL, inplace=True)\n",
    "\n",
    "#\n",
    "RENAME_2012_MEDALS = {\n",
    "    '01':'Gold',\n",
    "    '02':'Silver',\n",
    "    '03':'Bronze',\n",
    "}\n",
    "winners_2012.Medal.replace(RENAME_2012_MEDALS, inplace=True) "
   ]
  },
  {
   "cell_type": "code",
   "execution_count": null,
   "metadata": {
    "collapsed": true
   },
   "outputs": [],
   "source": [
    "#discipline\n",
    "#sports (merge apres reconcilitation de la discipline)\n",
    "#events/event-gender/gender"
   ]
  },
  {
   "cell_type": "code",
   "execution_count": 71,
   "metadata": {
    "collapsed": false
   },
   "outputs": [],
   "source": [
    "#convergence and cleaning of discipline\n",
    "RENAME_D_OTHER = {\n",
    "    'Artistic G.':'Gymnastics',\n",
    "    'Wrestling Gre-R':'Wrestling',\n",
    "    'Wrestling Free.':'Wrestling',\n",
    "    'Cycling Road':'Cycling',\n",
    "    'Cycling Track':'Cycling',\n",
    "    'Canoe / Kayak S':'Canoeing',\n",
    "    'Canoe / Kayak F':'Canoe slalom',\n",
    "    'Synchronized S.':'Synchronized swimming',\n",
    "    'Modern Pentath.':'Modern pentathlon',\n",
    "    'Soccer':'Football',\n",
    "    'Table Tennis':'Table tennis',\n",
    "    'Rhythmic G.':'Rhythmic gymnastics',\n",
    "    'Lacrosse':'Field hockey',\n",
    "    'Jumping':'Equestrian',\n",
    "    'Polo':'Equestrian',\n",
    "    'Dressage':'Equestrian',\n",
    "    'Eventing':'Equestrian',\n",
    "    'Vaulting':'Equestrian',\n",
    "    'Hockey':'Field hockey',\n",
    "    'Beach volley.':'Volleyball',\n",
    "    'BMX':'Cycling',\n",
    "    'Mountain Bike':'Cycling'\n",
    "}\n",
    "winners_histo.Discipline.replace(RENAME_D_OTHER, inplace=True)\n",
    "\n",
    "RENAME_D_2012 = {\n",
    "    'Soccer':'Football',\n",
    "    'Track & field':'Athletics',\n",
    "    'Modern':'Modern pentathlon',\n",
    "    'Synchronized':'Synchronized swimming'\n",
    "}\n",
    "winners_2012.Discipline.replace(RENAME_D_2012, inplace=True)"
   ]
  }
 ],
 "metadata": {
  "kernelspec": {
   "display_name": "Python 2",
   "language": "python",
   "name": "python2"
  },
  "language_info": {
   "codemirror_mode": {
    "name": "ipython",
    "version": 2
   },
   "file_extension": ".py",
   "mimetype": "text/x-python",
   "name": "python",
   "nbconvert_exporter": "python",
   "pygments_lexer": "ipython2",
   "version": "2.7.12"
  }
 },
 "nbformat": 4,
 "nbformat_minor": 0
}
