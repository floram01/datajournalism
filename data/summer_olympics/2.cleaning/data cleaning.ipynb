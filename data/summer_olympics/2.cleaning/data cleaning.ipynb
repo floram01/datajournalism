{
 "cells": [
  {
   "cell_type": "code",
   "execution_count": 2,
   "metadata": {
    "collapsed": false
   },
   "outputs": [],
   "source": [
    "import pandas as pd\n",
    "from pymongo import MongoClient\n",
    "import numpy as np\n",
    "#import the data_tools needed\n",
    "import sys\n",
    "sys.path.insert(0, \"../../data_tools/\")\n",
    "from mongo_tools import get_mongo_database,mongo_coll_to_dicts, mongo_to_dataframe, dataframe_to_mongo\n",
    "\n",
    "#import the project specific data params\n",
    "sys.path.insert(0, \"../\")\n",
    "from data_params import DATABASE\n",
    "db = get_mongo_database(DATABASE)\n",
    "db.collection_names()"
   ]
  },
  {
   "cell_type": "code",
   "execution_count": 34,
   "metadata": {
    "collapsed": false
   },
   "outputs": [],
   "source": [
    "#cleaning winners_2012\n",
    "#store in mongo the data scrapped\n",
    "df = mongo_to_dataframe(DATABASE,'winners_2012')"
   ]
  },
  {
   "cell_type": "code",
   "execution_count": 49,
   "metadata": {
    "collapsed": false
   },
   "outputs": [
    {
     "data": {
      "text/html": [
       "<div>\n",
       "<table border=\"1\" class=\"dataframe\">\n",
       "  <thead>\n",
       "    <tr style=\"text-align: right;\">\n",
       "      <th></th>\n",
       "      <th>country</th>\n",
       "      <th>country_code</th>\n",
       "      <th>country_link</th>\n",
       "      <th>date</th>\n",
       "      <th>event</th>\n",
       "      <th>medal</th>\n",
       "      <th>name</th>\n",
       "      <th>sport</th>\n",
       "    </tr>\n",
       "  </thead>\n",
       "  <tbody>\n",
       "    <tr>\n",
       "      <th>0</th>\n",
       "      <td>United States</td>\n",
       "      <td>USA</td>\n",
       "      <td>/wiki/United_States_at_the_2012_Summer_Olympics</td>\n",
       "      <td>2016-07-28</td>\n",
       "      <td>Men's 400 m individual medley</td>\n",
       "      <td>01</td>\n",
       "      <td>Lochte, Ryan</td>\n",
       "      <td>Swimming</td>\n",
       "    </tr>\n",
       "    <tr>\n",
       "      <th>1</th>\n",
       "      <td>United States</td>\n",
       "      <td>USA</td>\n",
       "      <td>/wiki/United_States_at_the_2012_Summer_Olympics</td>\n",
       "      <td>2016-07-29</td>\n",
       "      <td>Women's skeet</td>\n",
       "      <td>01</td>\n",
       "      <td>Rhode, Kim</td>\n",
       "      <td>Shooting</td>\n",
       "    </tr>\n",
       "    <tr>\n",
       "      <th>2</th>\n",
       "      <td>United States</td>\n",
       "      <td>USA</td>\n",
       "      <td>/wiki/United_States_at_the_2012_Summer_Olympics</td>\n",
       "      <td>2016-07-29</td>\n",
       "      <td>Women's 100 m butterfly</td>\n",
       "      <td>01</td>\n",
       "      <td>Vollmer, Dana</td>\n",
       "      <td>Swimming</td>\n",
       "    </tr>\n",
       "    <tr>\n",
       "      <th>3</th>\n",
       "      <td>United States</td>\n",
       "      <td>USA</td>\n",
       "      <td>/wiki/United_States_at_the_2012_Summer_Olympics</td>\n",
       "      <td>2016-07-30</td>\n",
       "      <td>Men's 100 m backstroke</td>\n",
       "      <td>01</td>\n",
       "      <td>Grevers, Matt</td>\n",
       "      <td>Swimming</td>\n",
       "    </tr>\n",
       "    <tr>\n",
       "      <th>4</th>\n",
       "      <td>United States</td>\n",
       "      <td>USA</td>\n",
       "      <td>/wiki/United_States_at_the_2012_Summer_Olympics</td>\n",
       "      <td>2016-07-30</td>\n",
       "      <td>Women's 100 m backstroke</td>\n",
       "      <td>01</td>\n",
       "      <td>Franklin, Missy</td>\n",
       "      <td>Swimming</td>\n",
       "    </tr>\n",
       "  </tbody>\n",
       "</table>\n",
       "</div>"
      ],
      "text/plain": [
       "         country country_code  \\\n",
       "0  United States          USA   \n",
       "1  United States          USA   \n",
       "2  United States          USA   \n",
       "3  United States          USA   \n",
       "4  United States          USA   \n",
       "\n",
       "                                      country_link       date  \\\n",
       "0  /wiki/United_States_at_the_2012_Summer_Olympics 2016-07-28   \n",
       "1  /wiki/United_States_at_the_2012_Summer_Olympics 2016-07-29   \n",
       "2  /wiki/United_States_at_the_2012_Summer_Olympics 2016-07-29   \n",
       "3  /wiki/United_States_at_the_2012_Summer_Olympics 2016-07-30   \n",
       "4  /wiki/United_States_at_the_2012_Summer_Olympics 2016-07-30   \n",
       "\n",
       "                           event medal             name     sport  \n",
       "0  Men's 400 m individual medley    01     Lochte, Ryan  Swimming  \n",
       "1                  Women's skeet    01       Rhode, Kim  Shooting  \n",
       "2        Women's 100 m butterfly    01    Vollmer, Dana  Swimming  \n",
       "3         Men's 100 m backstroke    01    Grevers, Matt  Swimming  \n",
       "4       Women's 100 m backstroke    01  Franklin, Missy  Swimming  "
      ]
     },
     "execution_count": 49,
     "metadata": {},
     "output_type": "execute_result"
    }
   ],
   "source": [
    "df.head()"
   ]
  },
  {
   "cell_type": "code",
   "execution_count": 37,
   "metadata": {
    "collapsed": false
   },
   "outputs": [],
   "source": [
    "#drop the TBC for France prices\n",
    "df = df[df.medal != 'TBC']\n",
    "#adjust dates and convert to datetime\n",
    "df.date = df.date.str.replace('00000000','')\n",
    "df.date = df.date.str.replace('-0000','')\n",
    "df.date = pd.to_datetime(df.date,errors='coerce')\n",
    "#clean country code\n",
    "df.country_code = df.country_code.str.replace('(','')\n",
    "df.country_code = df.country_code.str.replace(')','')\n",
    "#clean medals\n",
    "df.medal = df.medal.str.replace(' !','')"
   ]
  },
  {
   "cell_type": "code",
   "execution_count": 45,
   "metadata": {
    "collapsed": true
   },
   "outputs": [],
   "source": [
    "#cleaning winners_2012\n",
    "#store in mongo the data scrapped\n",
    "df_2 = mongo_to_dataframe(DATABASE,'winners_1896_2008')"
   ]
  },
  {
   "cell_type": "code",
   "execution_count": 46,
   "metadata": {
    "collapsed": false
   },
   "outputs": [
    {
     "data": {
      "text/html": [
       "<div>\n",
       "<table border=\"1\" class=\"dataframe\">\n",
       "  <thead>\n",
       "    <tr style=\"text-align: right;\">\n",
       "      <th></th>\n",
       "      <th>Athlete</th>\n",
       "      <th>City</th>\n",
       "      <th>Discipline</th>\n",
       "      <th>Edition</th>\n",
       "      <th>Event</th>\n",
       "      <th>Event_gender</th>\n",
       "      <th>Gender</th>\n",
       "      <th>Medal</th>\n",
       "      <th>NOC</th>\n",
       "      <th>Sport</th>\n",
       "    </tr>\n",
       "  </thead>\n",
       "  <tbody>\n",
       "    <tr>\n",
       "      <th>0</th>\n",
       "      <td>HAJOS, Alfred</td>\n",
       "      <td>Athens</td>\n",
       "      <td>Swimming</td>\n",
       "      <td>1896</td>\n",
       "      <td>100m freestyle</td>\n",
       "      <td>M</td>\n",
       "      <td>Men</td>\n",
       "      <td>Gold</td>\n",
       "      <td>HUN</td>\n",
       "      <td>Aquatics</td>\n",
       "    </tr>\n",
       "    <tr>\n",
       "      <th>1</th>\n",
       "      <td>HERSCHMANN, Otto</td>\n",
       "      <td>Athens</td>\n",
       "      <td>Swimming</td>\n",
       "      <td>1896</td>\n",
       "      <td>100m freestyle</td>\n",
       "      <td>M</td>\n",
       "      <td>Men</td>\n",
       "      <td>Silver</td>\n",
       "      <td>AUT</td>\n",
       "      <td>Aquatics</td>\n",
       "    </tr>\n",
       "    <tr>\n",
       "      <th>2</th>\n",
       "      <td>DRIVAS, Dimitrios</td>\n",
       "      <td>Athens</td>\n",
       "      <td>Swimming</td>\n",
       "      <td>1896</td>\n",
       "      <td>100m freestyle for sailors</td>\n",
       "      <td>M</td>\n",
       "      <td>Men</td>\n",
       "      <td>Bronze</td>\n",
       "      <td>GRE</td>\n",
       "      <td>Aquatics</td>\n",
       "    </tr>\n",
       "    <tr>\n",
       "      <th>3</th>\n",
       "      <td>MALOKINIS, Ioannis</td>\n",
       "      <td>Athens</td>\n",
       "      <td>Swimming</td>\n",
       "      <td>1896</td>\n",
       "      <td>100m freestyle for sailors</td>\n",
       "      <td>M</td>\n",
       "      <td>Men</td>\n",
       "      <td>Gold</td>\n",
       "      <td>GRE</td>\n",
       "      <td>Aquatics</td>\n",
       "    </tr>\n",
       "    <tr>\n",
       "      <th>4</th>\n",
       "      <td>CHASAPIS, Spiridon</td>\n",
       "      <td>Athens</td>\n",
       "      <td>Swimming</td>\n",
       "      <td>1896</td>\n",
       "      <td>100m freestyle for sailors</td>\n",
       "      <td>M</td>\n",
       "      <td>Men</td>\n",
       "      <td>Silver</td>\n",
       "      <td>GRE</td>\n",
       "      <td>Aquatics</td>\n",
       "    </tr>\n",
       "  </tbody>\n",
       "</table>\n",
       "</div>"
      ],
      "text/plain": [
       "              Athlete    City Discipline  Edition                       Event  \\\n",
       "0       HAJOS, Alfred  Athens   Swimming     1896              100m freestyle   \n",
       "1    HERSCHMANN, Otto  Athens   Swimming     1896              100m freestyle   \n",
       "2   DRIVAS, Dimitrios  Athens   Swimming     1896  100m freestyle for sailors   \n",
       "3  MALOKINIS, Ioannis  Athens   Swimming     1896  100m freestyle for sailors   \n",
       "4  CHASAPIS, Spiridon  Athens   Swimming     1896  100m freestyle for sailors   \n",
       "\n",
       "  Event_gender Gender   Medal  NOC     Sport  \n",
       "0            M    Men    Gold  HUN  Aquatics  \n",
       "1            M    Men  Silver  AUT  Aquatics  \n",
       "2            M    Men  Bronze  GRE  Aquatics  \n",
       "3            M    Men    Gold  GRE  Aquatics  \n",
       "4            M    Men  Silver  GRE  Aquatics  "
      ]
     },
     "execution_count": 46,
     "metadata": {},
     "output_type": "execute_result"
    }
   ],
   "source": [
    "df_2.head()"
   ]
  },
  {
   "cell_type": "code",
   "execution_count": 47,
   "metadata": {
    "collapsed": true
   },
   "outputs": [],
   "source": [
    "#cleaning winners_2012\n",
    "#store in mongo the data scrapped\n",
    "df_3 = mongo_to_dataframe(DATABASE,'wb_demo_eco')"
   ]
  },
  {
   "cell_type": "code",
   "execution_count": 48,
   "metadata": {
    "collapsed": false
   },
   "outputs": [
    {
     "data": {
      "text/html": [
       "<div>\n",
       "<table border=\"1\" class=\"dataframe\">\n",
       "  <thead>\n",
       "    <tr style=\"text-align: right;\">\n",
       "      <th></th>\n",
       "      <th>GDP_cst_dollars</th>\n",
       "      <th>country</th>\n",
       "      <th>population</th>\n",
       "      <th>year</th>\n",
       "    </tr>\n",
       "  </thead>\n",
       "  <tbody>\n",
       "    <tr>\n",
       "      <th>0</th>\n",
       "      <td>2.773270e+12</td>\n",
       "      <td>Arab World</td>\n",
       "      <td>368802611.0</td>\n",
       "      <td>2012</td>\n",
       "    </tr>\n",
       "    <tr>\n",
       "      <th>1</th>\n",
       "      <td>2.497945e+12</td>\n",
       "      <td>Arab World</td>\n",
       "      <td>361031820.0</td>\n",
       "      <td>2011</td>\n",
       "    </tr>\n",
       "    <tr>\n",
       "      <th>2</th>\n",
       "      <td>2.103825e+12</td>\n",
       "      <td>Arab World</td>\n",
       "      <td>353112237.0</td>\n",
       "      <td>2010</td>\n",
       "    </tr>\n",
       "    <tr>\n",
       "      <th>3</th>\n",
       "      <td>1.798878e+12</td>\n",
       "      <td>Arab World</td>\n",
       "      <td>345054176.0</td>\n",
       "      <td>2009</td>\n",
       "    </tr>\n",
       "    <tr>\n",
       "      <th>4</th>\n",
       "      <td>2.081343e+12</td>\n",
       "      <td>Arab World</td>\n",
       "      <td>336886468.0</td>\n",
       "      <td>2008</td>\n",
       "    </tr>\n",
       "  </tbody>\n",
       "</table>\n",
       "</div>"
      ],
      "text/plain": [
       "   GDP_cst_dollars     country   population  year\n",
       "0     2.773270e+12  Arab World  368802611.0  2012\n",
       "1     2.497945e+12  Arab World  361031820.0  2011\n",
       "2     2.103825e+12  Arab World  353112237.0  2010\n",
       "3     1.798878e+12  Arab World  345054176.0  2009\n",
       "4     2.081343e+12  Arab World  336886468.0  2008"
      ]
     },
     "execution_count": 48,
     "metadata": {},
     "output_type": "execute_result"
    }
   ],
   "source": [
    "df_3.head()"
   ]
  }
 ],
 "metadata": {
  "kernelspec": {
   "display_name": "Python 2",
   "language": "python",
   "name": "python2"
  },
  "language_info": {
   "codemirror_mode": {
    "name": "ipython",
    "version": 2
   },
   "file_extension": ".py",
   "mimetype": "text/x-python",
   "name": "python",
   "nbconvert_exporter": "python",
   "pygments_lexer": "ipython2",
   "version": "2.7.11"
  }
 },
 "nbformat": 4,
 "nbformat_minor": 0
}
